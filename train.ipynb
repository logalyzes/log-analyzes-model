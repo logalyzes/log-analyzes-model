{
 "cells": [
  {
   "cell_type": "code",
   "execution_count": null,
   "metadata": {},
   "outputs": [],
   "source": [
    "import torch\n",
    "from torch.utils.data import Dataset, DataLoader\n",
    "from transformers import BertTokenizer\n",
    "import pandas as pd\n",
    "from sklearn.model_selection import train_test_split\n",
    "\n",
    "class LogDataset(Dataset):\n",
    "    def __init__(self, dataframe):\n",
    "        self.tokenizer = BertTokenizer.from_pretrained('bert-large-uncased')\n",
    "        self.data = dataframe\n",
    "\n",
    "    def __len__(self):\n",
    "        return len(self.data)\n",
    "\n",
    "    def __getitem__(self, idx):\n",
    "        item = self.data.iloc[idx]\n",
    "        log = item['Message']\n",
    "        inputs = self.tokenizer(log, return_tensors='pt', padding='max_length', truncation=True, max_length=128)\n",
    "        inputs = {key: value.squeeze(0) for key, value in inputs.items()}\n",
    "        \n",
    "        labels = {\n",
    "            'is_anomal': torch.tensor(item['IsAnomal'], dtype=torch.long),\n",
    "            'need_attention': torch.tensor(item['NeedAttention'], dtype=torch.long),\n",
    "            'level': torch.tensor(item['Level'] - 1, dtype=torch.long)  \n",
    "        }\n",
    "        return inputs, labels\n",
    "\n",
    "\n",
    "# Example CSV loading and train/test split\n",
    "df = pd.read_csv('/content/drive/MyDrive/clasic-httpserver-logs.csv')\n",
    "df['Level'] = df['Level'].clip(1, 5)  # Ensuring levels are within 1 to 5\n",
    "train_df, test_df = train_test_split(df, test_size=0.2, random_state=42)\n",
    "train_dataset = LogDataset(train_df)\n",
    "test_dataset = LogDataset(test_df)\n",
    "\n",
    "train_loader = DataLoader(train_dataset, batch_size=4, shuffle=True)\n",
    "test_loader = DataLoader(test_dataset, batch_size=4, shuffle=False)\n"
   ]
  },
  {
   "cell_type": "code",
   "execution_count": null,
   "metadata": {},
   "outputs": [],
   "source": [
    "from transformers import BertModel\n",
    "import torch.nn as nn\n",
    "\n",
    "class MultiTaskBERT(nn.Module):\n",
    "    def __init__(self):\n",
    "        super().__init__()\n",
    "        self.bert = BertModel.from_pretrained('bert-base-uncased')\n",
    "        self.classifier_is_anomal = nn.Linear(self.bert.config.hidden_size, 2)\n",
    "        self.classifier_need_attention = nn.Linear(self.bert.config.hidden_size, 2)\n",
    "        self.classifier_level = nn.Linear(self.bert.config.hidden_size, 5)\n",
    "\n",
    "    def forward(self, input_ids, attention_mask, token_type_ids=None):\n",
    "        outputs = self.bert(input_ids, attention_mask=attention_mask, token_type_ids=token_type_ids)\n",
    "        pooled_output = outputs.pooler_output\n",
    "        \n",
    "        is_anomal_logits = self.classifier_is_anomal(pooled_output)\n",
    "        need_attention_logits = self.classifier_need_attention(pooled_output)\n",
    "        level_logits = self.classifier_level(pooled_output)\n",
    "        \n",
    "        return is_anomal_logits, need_attention_logits, level_logits\n"
   ]
  },
  {
   "cell_type": "code",
   "execution_count": null,
   "metadata": {},
   "outputs": [],
   "source": [
    "from torch.optim import AdamW\n",
    "from torch.nn import CrossEntropyLoss\n",
    "from transformers import get_scheduler\n",
    "import os\n",
    "os.environ['CUDA_LAUNCH_BLOCKING'] = \"1\"\n",
    "\n",
    "def train_model(model, train_loader, device):\n",
    "    model.train()\n",
    "    optimizer = AdamW(model.parameters(), lr=5e-5)\n",
    "    loss_fn = CrossEntropyLoss()\n",
    "    scheduler = get_scheduler(\"linear\", optimizer=optimizer, num_warmup_steps=0, num_training_steps=len(train_loader) * 3)\n",
    "\n",
    "    for epoch in range(3):  # Adjust the number of epochs according to your needs\n",
    "        for inputs, labels in train_loader:\n",
    "            input_ids = inputs['input_ids'].to(device)\n",
    "            attention_mask = inputs['attention_mask'].to(device)\n",
    "            labels = {k: v.to(device) for k, v in labels.items()}\n",
    "\n",
    "            # Check labels are in the correct range\n",
    "            assert (labels['is_anomal'].ge(0) & labels['is_anomal'].le(1)).all()\n",
    "            assert (labels['need_attention'].ge(0) & labels['need_attention'].le(1)).all()\n",
    "            assert (labels['level'].ge(0) & labels['level'].le(4)).all()\n",
    "\n",
    "            model.zero_grad()\n",
    "            outputs = model(input_ids, attention_mask)\n",
    "            loss = (loss_fn(outputs[0], labels['is_anomal']) +\n",
    "                    loss_fn(outputs[1], labels['need_attention']) +\n",
    "                    loss_fn(outputs[2], labels['level'])) / 3\n",
    "            loss.backward()\n",
    "            optimizer.step()\n",
    "            scheduler.step()\n",
    "\n",
    "        print(f\"Epoch {epoch+1}: Loss {loss.item()}\")\n",
    "\n",
    "device = torch.device(\"cuda\" if torch.cuda.is_available() else \"cpu\")\n",
    "model = MultiTaskBERT().to(device)\n",
    "train_model(model, train_loader, device)\n"
   ]
  },
  {
   "cell_type": "code",
   "execution_count": null,
   "metadata": {},
   "outputs": [],
   "source": [
    "import matplotlib.pyplot as plt\n",
    "\n",
    "def evaluate_model_and_plot(model, test_loader, device):\n",
    "    model.eval()\n",
    "    accuracies_is_anomal = []\n",
    "    accuracies_need_attention = []\n",
    "    accuracies_level = []\n",
    "\n",
    "    with torch.no_grad():\n",
    "        for inputs, labels in test_loader:\n",
    "            input_ids = inputs['input_ids'].to(device)\n",
    "            attention_mask = inputs['attention_mask'].to(device)\n",
    "            labels = {k: v.to(device) for k, v in labels.items()}\n",
    "\n",
    "            outputs = model(input_ids, attention_mask)\n",
    "            _, preds_is_anomal = torch.max(outputs[0], dim=1)\n",
    "            _, preds_need_attention = torch.max(outputs[1], dim=1)\n",
    "            _, preds_level = torch.max(outputs[2], dim=1)\n",
    "            \n",
    "            accuracy_is_anomal = (preds_is_anomal == labels['is_anomal']).float().mean()\n",
    "            accuracy_need_attention = (preds_need_attention == labels['need_attention']).float().mean()\n",
    "            accuracy_level = (preds_level == labels['level']).float().mean()\n",
    "\n",
    "            accuracies_is_anomal.append(accuracy_is_anomal.item())\n",
    "            accuracies_need_attention.append(accuracy_need_attention.item())\n",
    "            accuracies_level.append(accuracy_level.item())\n",
    "\n",
    "\n",
    "\n",
    "    # Print average accuracies\n",
    "    print(f\"Average Test Accuracy IsAnomal: {sum(accuracies_is_anomal) / len(accuracies_is_anomal):.4f}\")\n",
    "    print(f\"Average Test Accuracy NeedAttention: {sum(accuracies_need_attention) / len(accuracies_need_attention):.4f}\")\n",
    "    print(f\"Average Test Accuracy Level: {sum(accuracies_level) / len(accuracies_level):.4f}\")\n"
   ]
  },
  {
   "cell_type": "code",
   "execution_count": null,
   "metadata": {},
   "outputs": [],
   "source": [
    "# Assuming test_loader and device are already set up\n",
    "evaluate_model_and_plot(model, test_loader, device)\n"
   ]
  },
  {
   "cell_type": "markdown",
   "metadata": {},
   "source": [
    "###  Training with User Defined Logs"
   ]
  },
  {
   "cell_type": "code",
   "execution_count": null,
   "metadata": {},
   "outputs": [],
   "source": [
    "\n",
    "df = pd.read_csv('/content/drive/MyDrive/user-defined-logs.csv')\n",
    "df['Level'] = df['Level'].clip(1, 5) \n",
    "train_df, test_df = train_test_split(df, test_size=0.2, random_state=42)\n",
    "train_dataset = LogDataset(train_df)\n",
    "test_dataset = LogDataset(test_df)\n",
    "\n",
    "train_loader = DataLoader(train_dataset, batch_size=4, shuffle=True)\n",
    "test_loader = DataLoader(test_dataset, batch_size=4, shuffle=False)"
   ]
  },
  {
   "cell_type": "code",
   "execution_count": null,
   "metadata": {},
   "outputs": [],
   "source": [
    "train_model(model, train_loader, device)\n"
   ]
  },
  {
   "cell_type": "code",
   "execution_count": null,
   "metadata": {},
   "outputs": [],
   "source": [
    "evaluate_model_and_plot(model, test_loader, device)"
   ]
  },
  {
   "cell_type": "code",
   "execution_count": null,
   "metadata": {},
   "outputs": [],
   "source": [
    "dummy_input_ids = torch.randint(0, 30522, (1, 128), device=device)  # Example input token IDs\n",
    "dummy_attention_mask = torch.ones(1, 128, device=device)  # Example attention mask\n",
    "\n",
    "# Trace the model with dummy inputs\n",
    "traced_model = torch.jit.trace(model, (dummy_input_ids, dummy_attention_mask))\n",
    "\n",
    "# Save the traced model\n",
    "traced_model.save(\"multi_task_bert_large.pt\")"
   ]
  }
 ],
 "metadata": {
  "kernelspec": {
   "display_name": "Python 3",
   "language": "python",
   "name": "python3"
  },
  "language_info": {
   "codemirror_mode": {
    "name": "ipython",
    "version": 3
   },
   "file_extension": ".py",
   "mimetype": "text/x-python",
   "name": "python",
   "nbconvert_exporter": "python",
   "pygments_lexer": "ipython3",
   "version": "3.10.12"
  }
 },
 "nbformat": 4,
 "nbformat_minor": 2
}
